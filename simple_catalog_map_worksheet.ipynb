{
 "cells": [
  {
   "cell_type": "code",
   "execution_count": 13,
   "metadata": {
    "collapsed": false
   },
   "outputs": [
    {
     "name": "stdout",
     "output_type": "stream",
     "text": [
      "The autoreload extension is already loaded. To reload it, use:\n",
      "  %reload_ext autoreload\n"
     ]
    }
   ],
   "source": [
    "%load_ext autoreload\n",
    "%autoreload 2\n",
    "%matplotlib inline"
   ]
  },
  {
   "cell_type": "code",
   "execution_count": 14,
   "metadata": {
    "collapsed": false
   },
   "outputs": [],
   "source": [
    "\n",
    "import ANSStools as atp\n",
    "\n",
    "import pylab as plt\n",
    "import numpy\n",
    "import scipy\n",
    "import datetime as dtm\n",
    "import pytz\n",
    "from mpl_toolkits.basemap import Basemap as Basemap\n",
    "\n"
   ]
  },
  {
   "cell_type": "code",
   "execution_count": 15,
   "metadata": {
    "collapsed": false
   },
   "outputs": [],
   "source": [
    "class Simple_Catalog(object):\n",
    "    def __init__(self, lats=[-125,-125], lons=[31., 41.], m_c=1.5, t0=dtm.datetime(1990,1,1, tzinfo=pytz.utc), \n",
    "                 t=dtm.datetime.now(pytz.utc), n_max=None, mapres='i'):\n",
    "        if lats is None: lats=[]\n",
    "        if lons is None: lons=[]\n",
    "        if len(lats)<1: lats.append(float(input('lower latitude: ')))\n",
    "        if len(lats)<2: lats.append(float(input('upper latitute: ')))\n",
    "        if len(lons)<1: lons.append(float(input('lower longitude: ')))\n",
    "        if len(lons)<2: lons.append(float(input('upper longitude: ')))\n",
    "        if m_c is None or m_c=='': m_c = (input('m_c[1.5]: '), 1.5)\n",
    "        #\n",
    "        # dates will be a little bit trickier; we probably need to process strings. find the date-handler code.\n",
    "        #\n",
    "        self.__dict__.update(locals())\n",
    "        catalog = atp.catfromANSS(lon=lons, lat=lats, minMag=m_c, dates0=[t0, t], Nmax=n_max,\n",
    "                                  fout=None, rec_array=True)\n",
    "    #\n",
    "    def simple_map(self, fignum=None, fig=None, ax=None, lats=None, lons=None, mapres=None):\n",
    "        if lats is None: lats = self.lats\n",
    "        if lons is None: lons = self.lons\n",
    "        if ax is None:\n",
    "            if fig is None:\n",
    "                fignum = (fignum or 0)\n",
    "                fig = plt.figure(fignum)\n",
    "            #\n",
    "            ax=plt.gca()\n",
    "        #\n",
    "        mapres=(mapres or self.mapres)\n",
    "        #\n",
    "        lllat = lats[0]\n",
    "        urlat = lats[1]\n",
    "        lllon = lons[0]\n",
    "        urlon = lons[1]\n",
    "        print('lls: ', lons, lats)\n",
    "        lon0 = numpy.mean(lons)\n",
    "        lat0 = numpy.mean(lats)\n",
    "        bm = Basemap(llcrnrlon=lllon, llcrnrlat=lllat, urcrnrlon=urlon, urcrnrlat=urlat, resolution=mapres,\n",
    "                     projection='cyl', lon_0=lon0, lat_0=lat0, ax=ax)\n",
    "        bm.drawcountries()\n",
    "        bm.drawrivers()\n",
    "        #\n",
    "        # draw coastlines and fill continents.\n",
    "        bm.drawcoastlines()\n",
    "        # fill continents and lakes\n",
    "        bm.fillcontinents(color='coral',lake_color='aqua')\n",
    "        # draw political boundaries.\n",
    "        bm.drawcountries(linewidth=1)\n",
    "        # fill map projection region light blue (this will\n",
    "        # paint ocean areas same color as lakes).\n",
    "        bm.drawmapboundary(fill_color='aqua')\n",
    "        # draw major rivers.\n",
    "        bm.drawrivers(color='b')\n",
    "        #print(time.clock()-t1,' secs to plot using using a pickled Basemap instance')\n",
    "        # draw parallels\n",
    "        #\n",
    "        # need a smart way to guess meridians. maybe an integer math routine to choose[.1, .25, .5, 1., 5., 10.]\n",
    "        #bm.drawparallels(circles,labels=[1,1,0,0])\n",
    "        # draw meridians\n",
    "        meridians = numpy.arange(-12,13,2)\n",
    "        bm.drawmeridians(meridians,labels=[0,0,1,1])\n",
    "        \n",
    "        self.bm=bm\n",
    "        "
   ]
  },
  {
   "cell_type": "code",
   "execution_count": 16,
   "metadata": {
    "collapsed": false
   },
   "outputs": [
    {
     "name": "stdout",
     "output_type": "stream",
     "text": [
      "138.03842646028838\n"
     ]
    }
   ],
   "source": [
    "L = 10**(.5*7.8-1.76)\n",
    "print(L)\n"
   ]
  },
  {
   "cell_type": "code",
   "execution_count": 17,
   "metadata": {
    "collapsed": false
   },
   "outputs": [
    {
     "name": "stdout",
     "output_type": "stream",
     "text": [
      "data handle fetched...\n",
      " no file.\n",
      "lls:  [168.077, 178.077] [37.757, 47.757]\n"
     ]
    },
    {
     "data": {
      "image/png": "[encoded data removed]",
      "text/plain": [
       "<matplotlib.figure.Figure at 0x7ff5a0c7e5f8>"
      ]
     },
     "metadata": {},
     "output_type": "display_data"
    }
   ],
   "source": [
    "# NZ 2016:\n",
    "# 2016-11-13 11:02:56 (UTC)\n",
    "#Location\n",
    "#42.757°S 173.077°E\n",
    "lon0 = 173.077\n",
    "lat0=42.757\n",
    "dlon=5.\n",
    "dlat=5.\n",
    "#\n",
    "lons = [lon0-5., lon0+5.]\n",
    "lats = [lat0-5., lat0+5.]\n",
    "cm = Simple_Catalog(lats=lats, lons=lons)\n",
    "\n",
    "\n",
    "cm.simple_map()"
   ]
  },
  {
   "cell_type": "code",
   "execution_count": null,
   "metadata": {
    "collapsed": true
   },
   "outputs": [],
   "source": [
    "# new zealand catalog:\n",
    "# see starting url at geonet:\n",
    "#  http://quakesearch.geonet.org.nz/ \n",
    "# queries are by simple query-string, so just put together one query with one of each condition, then we can paste\n",
    "# this together.\n",
    "# http://quakesearch.geonet.org.nz/csv?bbox=168.,-47.5,178.,-37.5&minmag=1.5&maxmag=11.0&mindepth=1.&maxdepth=100.0&startdate=2016-10-13T20:00:00&enddate=2016-11-13T22:00:00"
   ]
  },
  {
   "cell_type": "code",
   "execution_count": null,
   "metadata": {
    "collapsed": true
   },
   "outputs": [],
   "source": [
    "nz_cat = atp.cat_f"
   ]
  }
 ],
 "metadata": {
  "kernelspec": {
   "display_name": "Python 3",
   "language": "python",
   "name": "python3"
  },
  "language_info": {
   "codemirror_mode": {
    "name": "ipython",
    "version": 3
   },
   "file_extension": ".py",
   "mimetype": "text/x-python",
   "name": "python",
   "nbconvert_exporter": "python",
   "pygments_lexer": "ipython3",
   "version": "3.5.1"
  }
 },
 "nbformat": 4,
 "nbformat_minor": 0
}
